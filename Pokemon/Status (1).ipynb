{
 "cells": [
  {
   "cell_type": "markdown",
   "id": "0a82148f",
   "metadata": {},
   "source": [
    "## Status conditions"
   ]
  },
  {
   "cell_type": "code",
   "execution_count": null,
   "id": "9166403b",
   "metadata": {},
   "outputs": [],
   "source": [
    "## Burn strategy"
   ]
  },
  {
   "cell_type": "code",
   "execution_count": null,
   "id": "98f693e1",
   "metadata": {},
   "outputs": [],
   "source": [
    "## Poison Strat."
   ]
  },
  {
   "cell_type": "code",
   "execution_count": null,
   "id": "7eb8ad60",
   "metadata": {},
   "outputs": [],
   "source": [
    "## Sleep"
   ]
  },
  {
   "cell_type": "code",
   "execution_count": null,
   "id": "3897597a",
   "metadata": {},
   "outputs": [],
   "source": [
    "## Paralyze"
   ]
  },
  {
   "cell_type": "code",
   "execution_count": null,
   "id": "31ce1685",
   "metadata": {},
   "outputs": [],
   "source": []
  },
  {
   "cell_type": "markdown",
   "id": "c6ba3a50",
   "metadata": {},
   "source": [
    "## Weather conditions"
   ]
  },
  {
   "cell_type": "code",
   "execution_count": null,
   "id": "e3c7e09f",
   "metadata": {},
   "outputs": [],
   "source": [
    "## Rain\n",
    "## Fire\n",
    "## Hail\n",
    "## Sandstorm - Palossand: Sure up, Sandstorm,...     Utility Umbrella This sturdy umbrella protects the holder from the effects of weather.\n",
    "## Sunny - Ceruledge: Solar blade, STAB Fire type move,..."
   ]
  },
  {
   "cell_type": "markdown",
   "id": "5e3ef119",
   "metadata": {},
   "source": [
    "## Terrains"
   ]
  },
  {
   "cell_type": "code",
   "execution_count": null,
   "id": "9d3d02f6",
   "metadata": {},
   "outputs": [],
   "source": [
    "# Item: Terrain Extender Terrains now last 8 turns instead of 5\n",
    "# Psychic terrain\n",
    "# Grassy terrain - Lurantis: solar blade, solar beam, grassy terrain, sunny day\n",
    "# Electric terrain\n",
    "# Misty terrain- Hatterene: misty explosion/fairy type move/terrain pulse, mystical fire, giga drain, future sight\n"
   ]
  }
 ],
 "metadata": {
  "kernelspec": {
   "display_name": "Python 3 (ipykernel)",
   "language": "python",
   "name": "python3"
  },
  "language_info": {
   "codemirror_mode": {
    "name": "ipython",
    "version": 3
   },
   "file_extension": ".py",
   "mimetype": "text/x-python",
   "name": "python",
   "nbconvert_exporter": "python",
   "pygments_lexer": "ipython3",
   "version": "3.9.13"
  }
 },
 "nbformat": 4,
 "nbformat_minor": 5
}
